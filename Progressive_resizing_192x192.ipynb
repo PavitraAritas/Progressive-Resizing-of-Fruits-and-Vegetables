{
 "cells": [
  {
   "cell_type": "code",
   "execution_count": null,
   "metadata": {},
   "outputs": [],
   "source": [
    "# Import the necessary libraries\n",
    "from tensorflow.keras.models import Sequential, Model\n",
    "from tensorflow.keras.layers import Convolution2D, MaxPooling2D\n",
    "from tensorflow.keras.models import load_model\n",
    "\n",
    "from tensorflow.keras.preprocessing import image\n",
    "from tensorflow.keras.preprocessing.image import ImageDataGenerator\n",
    "from tensorflow.keras.callbacks import EarlyStopping, ReduceLROnPlateau\n",
    "\n",
    "import glob\n",
    "import numpy as np"
   ]
  },
  {
   "cell_type": "code",
   "execution_count": null,
   "metadata": {},
   "outputs": [],
   "source": [
    "# Path of the dataset\n",
    "path = '/content/drive/My Drive/dataset'"
   ]
  },
  {
   "cell_type": "code",
   "execution_count": null,
   "metadata": {},
   "outputs": [],
   "source": [
    "# Define a variable to store the number of files in total\n",
    "images = glob.glob(path + '/*/*.jpg')\n",
    "\n",
    "# Define a varible to store the number of classes\n",
    "classes = glob.glob(path + '/*')"
   ]
  },
  {
   "cell_type": "code",
   "execution_count": null,
   "metadata": {},
   "outputs": [],
   "source": [
    "# Image augmentation\n",
    "\n",
    "# Create the train data generator\n",
    "train_data_gen = ImageDataGenerator(rotation_range=30,\n",
    "                                    shear_range=0.2,\n",
    "                                    zoom_range=0.2,\n",
    "                                    horizontal_flip=True,\n",
    "                                    fill_mode='nearest',\n",
    "                                    rescale=1 / 255,\n",
    "                                    validation_split=0.2)"
   ]
  },
  {
   "cell_type": "code",
   "execution_count": null,
   "metadata": {},
   "outputs": [],
   "source": [
    "# Augment the training set\n",
    "training_data_set = train_data_gen.flow_from_directory(path,\n",
    "                                                       target_size=(192, 192),\n",
    "                                                       class_mode='categorical',\n",
    "                                                       batch_size=32,\n",
    "                                                       subset='training')\n",
    "\n",
    "# Augment the validation set\n",
    "validation_data_set = train_data_gen.flow_from_directory(path,\n",
    "                                                         target_size=(192, 192),\n",
    "                                                         class_mode='categorical',\n",
    "                                                         batch_size=32,\n",
    "                                                         subset='validation')"
   ]
  },
  {
   "cell_type": "code",
   "execution_count": null,
   "metadata": {},
   "outputs": [],
   "source": [
    "# Neural net\n",
    "# Create the first 2 new layers with a new desired input shape\n",
    "classifier = Sequential()\n",
    "classifier.add(Convolution2D(64,\n",
    "                             kernel_size=(3, 3),\n",
    "                             input_shape=(192, 192, 3),\n",
    "                             activation='relu'))  # added to the 192x192 edition\n",
    "classifier.add(Convolution2D(64,\n",
    "                             kernel_size=(3, 3),\n",
    "                             activation='relu'))  # added to the 192x192 edition\n",
    "classifier.add(MaxPooling2D(pool_size=(2, 2)))"
   ]
  },
  {
   "cell_type": "code",
   "execution_count": null,
   "metadata": {},
   "outputs": [],
   "source": [
    "# Load the pretrained model\n",
    "loaded_model = load_model(\"/content/drive/My Drive/Models/progressive_resizing_96.h5\")\n",
    "print(\"CNN model loaded from disk\")"
   ]
  },
  {
   "cell_type": "code",
   "execution_count": null,
   "metadata": {},
   "outputs": [],
   "source": [
    "\n",
    "# Add all but the first 2 layers of the previous 96x96 model\n",
    "# ie., remove the input layer, this is now the job of the new layers defined above\n",
    "for layer in loaded_model.layers[1:]:\n",
    "  layer._name += '_prior'\n",
    "  classifier.add(layer)\n",
    "\n",
    "# the pretrained CNN layers are already marked non-trainable\n",
    "# mark off the top layers as well\n",
    "for layer in classifier.layers[-4:]:\n",
    "  layer.trainable = False\n",
    "\n",
    "# Set layer names -> avoids layer collision\n",
    "for i, layer in enumerate(classifier.layers):\n",
    "  layer._name = 'layer_' + str(i)"
   ]
  },
  {
   "cell_type": "code",
   "execution_count": null,
   "metadata": {},
   "outputs": [],
   "source": [
    "# Compile the model\n",
    "classifier.compile(optimizer='rmsprop',\n",
    "                   loss='categorical_crossentropy',\n",
    "                   metrics=['accuracy'])\n",
    "\n",
    "# View the structure of the model\n",
    "classifier.summary()"
   ]
  },
  {
   "cell_type": "code",
   "execution_count": null,
   "metadata": {},
   "outputs": [],
   "source": [
    "# Fit the model\n",
    "classifier.fit_generator(training_data_set,\n",
    "                         epochs=12,\n",
    "                         steps_per_epoch=len(training_data_set.filenames),\n",
    "                         validation_data=validation_data_set,\n",
    "                         validation_steps=len(validation_data_set.filenames),\n",
    "                         callbacks=[EarlyStopping(patience=5, restore_best_weights=True),\n",
    "                                    ReduceLROnPlateau(patience=3)])"
   ]
  },
  {
   "cell_type": "code",
   "execution_count": null,
   "metadata": {},
   "outputs": [],
   "source": [
    "# Save Model to disk\n",
    "classifier.save(\"/content/drive/My Drive/Models/progressive_resizing_192.h5\")\n",
    "print(\"CNN model saved to disk\")"
   ]
  }
 ],
 "metadata": {
  "kernelspec": {
   "display_name": "Python 3",
   "language": "python",
   "name": "python3"
  },
  "language_info": {
   "codemirror_mode": {
    "name": "ipython",
    "version": 3
   },
   "file_extension": ".py",
   "mimetype": "text/x-python",
   "name": "python",
   "nbconvert_exporter": "python",
   "pygments_lexer": "ipython3",
   "version": "3.7.3"
  }
 },
 "nbformat": 4,
 "nbformat_minor": 2
}
